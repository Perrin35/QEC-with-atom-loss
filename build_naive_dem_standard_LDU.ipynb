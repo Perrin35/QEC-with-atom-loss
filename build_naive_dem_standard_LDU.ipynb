{
 "cells": [
  {
   "cell_type": "code",
   "execution_count": null,
   "id": "df0c7c72-c8c1-4933-9a06-5907f2a16b6a",
   "metadata": {},
   "outputs": [],
   "source": [
    "import stim\n",
    "from dem_builder_standard_LDU import DEM_builder\n",
    "import os\n",
    "import numpy as np\n",
    "import scipy\n",
    "from surface_code_standard_LDU import Rotated_Surface_Code_standard_LDU\n",
    "import pymatching\n",
    "import multiprocessing\n",
    "from multiprocessing import Pool"
   ]
  },
  {
   "cell_type": "code",
   "execution_count": null,
   "id": "a52240ea-91b1-449e-a59e-3a5cad46a2de",
   "metadata": {},
   "outputs": [],
   "source": [
    "#functions\n",
    "\n",
    "#build naive DEM for loss (without knowledge of the locations including both data and ancilla qubits)\n",
    "def build_multi_naive_dem_loss(distance,loss):\n",
    "    loss_round=round(loss,5)\n",
    "    lattice=Rotated_Surface_Code_standard_LDU(distance,distance,distance,'|0>','Z',measurement_order='z_first',loss_rate=loss_round)\n",
    "    dem_build=DEM_builder(lattice,no_observable=True)\n",
    "    path_folder='data/dem/naive_dem_standard_LDU/'\n",
    "    path='DEM_surface_code_({},{},{})_loss_rate={}.dem'.format(lattice.width,lattice.height,lattice.rounds,lattice.loss_rate)\n",
    "        \n",
    "    os.makedirs(path_folder, exist_ok=True) \n",
    "    dem_build.build_naive_dem_loss(path_folder+path)\n",
    "\n",
    "#wrapper to one argument (needed for parallelization)\n",
    "def multi_args_wrapper_naive_dem_loss(args):\n",
    "   build_multi_naive_dem_loss(*args)"
   ]
  },
  {
   "cell_type": "code",
   "execution_count": null,
   "id": "d35d1466-dcc2-41c4-9572-98c4e64ab0af",
   "metadata": {},
   "outputs": [],
   "source": [
    "#build naive DEM\n",
    "distance_list=[3,5,7,9,11]\n",
    "loss_rate=np.linspace(0.0,0.027,28)#list of loss probabilities\n",
    "nb_core =10 #number of cores used\n",
    "for L in distance_list:\n",
    "    with Pool(processes=nb_core) as pool:\n",
    "        pool.imap(multi_args_wrapper_naive_dem_loss,[(L,loss) for loss in loss_rate])\n",
    "        pool.close()\n",
    "        pool.join()"
   ]
  },
  {
   "cell_type": "code",
   "execution_count": null,
   "id": "82626d5a-62a5-4902-8edf-47a6ea02669a",
   "metadata": {},
   "outputs": [],
   "source": []
  }
 ],
 "metadata": {
  "kernelspec": {
   "display_name": "QEC",
   "language": "python",
   "name": "qec"
  },
  "language_info": {
   "codemirror_mode": {
    "name": "ipython",
    "version": 3
   },
   "file_extension": ".py",
   "mimetype": "text/x-python",
   "name": "python",
   "nbconvert_exporter": "python",
   "pygments_lexer": "ipython3",
   "version": "3.9.5"
  }
 },
 "nbformat": 4,
 "nbformat_minor": 5
}
