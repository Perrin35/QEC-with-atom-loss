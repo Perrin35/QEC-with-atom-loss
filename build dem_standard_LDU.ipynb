{
 "cells": [
  {
   "cell_type": "code",
   "execution_count": 6,
   "id": "3eed10ad-9e6f-46b1-af27-a6f1832349e1",
   "metadata": {},
   "outputs": [],
   "source": [
    "import stim\n",
    "from dem_builder_standard_LDU import DEM_builder\n",
    "import os\n",
    "import numpy as np\n",
    "import scipy\n",
    "from surface_code_standard_LDU import Rotated_Surface_Code_standard_LDU\n",
    "import pymatching\n",
    "import multiprocessing\n",
    "from multiprocessing import Pool"
   ]
  },
  {
   "cell_type": "code",
   "execution_count": 7,
   "id": "509791e0-1010-4d6c-b4ae-f1493db5431e",
   "metadata": {},
   "outputs": [],
   "source": [
    "#functions\n",
    "\n",
    "#build DEM associated to lost of ancilla qubits\n",
    "def build_multi_dem_ancilla(distance,loss):\n",
    "    loss_round=round(loss,5)\n",
    "    lattice=Rotated_Surface_Code_standard_LDU(distance,distance,distance,'|0>','Z',measurement_order='z_first',loss_rate=loss_round)\n",
    "    dem_build=DEM_builder(lattice,no_observable=True)\n",
    "    path_folder='data/dem/dem_standard_LDU/'\n",
    "    path='DEM_surface_code_({},{},{})_loss_rate={}'.format(lattice.width,lattice.height,lattice.rounds,lattice.loss_rate)\n",
    "        \n",
    "    os.makedirs(path_folder, exist_ok=True) \n",
    "    dem_build.build_dem_lost_ancilla_qubits(path_folder+path)\n",
    "\n",
    "#wrapper to one argument (needed for parallelization)\n",
    "def multi_args_wrapper_dem_ancilla(args):\n",
    "   build_multi_dem_ancilla(*args)\n",
    "\n",
    "#build DEM associated to lost of data qubits\n",
    "def build_multi_dem_data(distance,loss,strength):\n",
    "    strength=round(strength,5)\n",
    "    loss=round(loss,5)\n",
    "    lattice=Rotated_Surface_Code_standard_LDU(distance,distance,distance,'|0>','Z',measurement_order='z_first',after_CZ=('DEPOLARIZE2',strength),loss_rate=loss)\n",
    "    dem_build=DEM_builder(lattice,no_observable=True)\n",
    "    path_folder='data/dem/dem_standard_LDU/'\n",
    "    path='DEM_surface_code_({},{},{})_loss_rate={}_depo_noise={}'.format(lattice.width,lattice.height,lattice.rounds,lattice.loss_rate,strength)\n",
    "    \n",
    "    os.makedirs(path_folder, exist_ok=True) \n",
    "    dem_build.build_dem_lost_data_qubits(path_folder+path)\n",
    "\n",
    "#wrapper to one argument (needed for parallelization)\n",
    "def multi_args_wrapper_dem_data(args):\n",
    "   build_multi_dem_data(*args)\n",
    "    "
   ]
  },
  {
   "cell_type": "code",
   "execution_count": null,
   "id": "b9b3eec3-5a51-4119-9d6c-5f4034f9bf98",
   "metadata": {},
   "outputs": [],
   "source": [
    "#build DEM associated to loss of ancilla qubits in parallel (does not depend on the loss probability)\n",
    "distance_list=[3,5,7,9,11]\n",
    "loss_rate=np.linspace(0.001,0.035,35)#list of loss probabilities\n",
    "nb_core =10 #number of cores used\n",
    "for L in distance_list:\n",
    "    with Pool(processes=nb_core) as pool:\n",
    "        pool.imap(multi_args_wrapper_dem_ancilla,[(L,loss) for loss in loss_rate])\n",
    "        pool.close()\n",
    "        pool.join()\n",
    "            "
   ]
  },
  {
   "cell_type": "code",
   "execution_count": 8,
   "id": "62023bb4-f7ec-4008-894d-14ede1c781c9",
   "metadata": {},
   "outputs": [],
   "source": [
    "#build DEM associated to loss of data qubits in parallel (for vanishing loss probability)\n",
    "distance_list=[3,5,7,9,11]\n",
    "loss_rate=np.linspace(0.001,0.035,35)#list of loss probabilities\n",
    "nb_core =10 #number of cores used\n",
    "\n",
    "for L in distance_list:\n",
    "    with Pool(processes=nb_core) as pool:\n",
    "        pool.imap(multi_args_wrapper_dem_data,[(L,loss,0) for loss in loss_rate])\n",
    "        pool.close()\n",
    "        pool.join()\n",
    "            "
   ]
  },
  {
   "cell_type": "code",
   "execution_count": 32,
   "id": "c95fdf33-ccd0-44c2-bbb3-0db0aaa08772",
   "metadata": {},
   "outputs": [],
   "source": [
    "#build DEM associated to loss of data qubits in parallel (for finite loss probabilities)\n",
    "distance_list=[3,5,7,9,11]\n",
    "loss_rate=[0.001,0.002,0.003,0.005,0.007,0.01,0.015,0.02,0.025,0.027]#list of loss probabilities\n",
    "depo=np.linspace(0.001,0.016,16)#list of depolarizing noise probabilities\n",
    "nb_core =10 #number of cores used\n",
    "\n",
    "for L in distance_list:\n",
    "    for loss in loss_rate:\n",
    "        with Pool(processes=nb_core) as pool:\n",
    "            pool.imap(multi_args_wrapper_dem_data,[(L,loss,strength) for strength in depo])\n",
    "            pool.close()\n",
    "            pool.join()\n",
    "            "
   ]
  }
 ],
 "metadata": {
  "kernelspec": {
   "display_name": "QEC",
   "language": "python",
   "name": "qec"
  },
  "language_info": {
   "codemirror_mode": {
    "name": "ipython",
    "version": 3
   },
   "file_extension": ".py",
   "mimetype": "text/x-python",
   "name": "python",
   "nbconvert_exporter": "python",
   "pygments_lexer": "ipython3",
   "version": "3.9.5"
  }
 },
 "nbformat": 4,
 "nbformat_minor": 5
}
