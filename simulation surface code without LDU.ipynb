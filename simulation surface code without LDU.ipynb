{
 "cells": [
  {
   "cell_type": "code",
   "execution_count": null,
   "id": "c00465a2-9aee-4b8b-8a93-dc8a6934de4c",
   "metadata": {},
   "outputs": [],
   "source": [
    "from surface_code_no_detection_loss_circuit import Rotated_Surface_Code_no_detection_loss\n",
    "import stim\n",
    "import numpy as np\n",
    "import pymatching\n",
    "import multiprocessing\n",
    "from multiprocessing import Pool"
   ]
  },
  {
   "cell_type": "code",
   "execution_count": null,
   "id": "501f283d-704e-47d2-82b4-08d1781728b6",
   "metadata": {},
   "outputs": [],
   "source": [
    "#function to compute the logical error rate of the surface code without LDU\n",
    "def logical_errors(surface_code_circuit, num_shots: int):\n",
    "    sampler=surface_code_circuit.compile_detector_sampler()\n",
    "    detection_events,observable_flips=sampler.sample(num_shots,separate_observables=True)\n",
    "    dem=surface_code_circuit.detector_error_model(decompose_errors=True)\n",
    "    matcher = pymatching.Matching.from_detector_error_model(dem)\n",
    "    predictions = matcher.decode_batch(detection_events)\n",
    "                \n",
    "    num_errors=0\n",
    "    for shot in range(num_shots):\n",
    "           \n",
    "        predicted_for_shot = predictions[shot]\n",
    "        actual_for_shot = observable_flips[shot]\n",
    "\n",
    "\n",
    "        if not np.array_equal(actual_for_shot, predicted_for_shot):\n",
    "            num_errors += 1\n",
    "                    \n",
    "    return(num_errors/num_shots)\n",
    "\n",
    "#Compute the logical error rate of the surface code swithout LDU for a given depolarizing noise probability\n",
    "#stored as a dictionnary in a file\n",
    "def simulation_code_surface_code(L,depo,num_shots):\n",
    "    depo=round(depo,5)\n",
    "    lattice = Rotated_Surface_Code_no_detection_loss(L,L,L,'|0>','Z',measurement_order='z_first',after_CZ=('DEPOLARIZE2',depo))\n",
    "    surface_code_circuit=lattice.rotated_surface_code_circuit()\n",
    "    error_rate=logical_errors(surface_code_circuit,num_shots)\n",
    "\n",
    "    if os.path.exists('data/logical_error/logical_error_standard_surface_code_d={}.pkl'.format(L)):\n",
    "        with open('data/logical_error/logical_error_standard_surface_code_d={}.pkl'.format(L), 'rb') as fp:\n",
    "            data_saved=pickle.load(fp)\n",
    "    \n",
    "    else:\n",
    "        data_saved={}\n",
    "        \n",
    "    if depo not in data_saved.keys():#CREATE DICTIONNARY if the depolarizing noises probability has never been computed\n",
    "        data_saved[depo]={}\n",
    "        data_saved[depo]['num_shots']=num_shots\n",
    "        data_saved[depo]['error_rate']=error_rate\n",
    "    else:#UPDATE DICTIONNARY if there has been already simulation for that given noise probability\n",
    "        data_saved[depo]['error_rate']*=data_saved[depo]['num_shots']/(data_saved[depo]['num_shots']+num_shots)\n",
    "        data_saved[depo]['error_rate']+=error_rate*num_shots/(data_saved[depo]['num_shots']+num_shots)\n",
    "        data_saved[depo]['num_shots']+=num_shots\n",
    "        \n",
    "    with open('data/logical_error/logical_error_standard_surface_code_d={}.pkl'.format(L), 'wb') as fp:\n",
    "        pickle.dump(data_saved, fp)\n",
    "\n",
    "    print('logical_error for L={}, and strength depo={} is {}'.format(L,depo,error_rate))\n",
    "    \n",
    "\n",
    "\n",
    "#wrapper to one argument (needed for parallelization)    \n",
    "def multi_args_wrapper_surface_code(args):\n",
    "   simulation_code_surface_code(*args)\n",
    "\n"
   ]
  },
  {
   "cell_type": "code",
   "execution_count": null,
   "id": "7e1cf706-c583-4a65-a884-68755924ca6f",
   "metadata": {},
   "outputs": [],
   "source": [
    "#compute the logical error rate of the standard surface code at vanishing loss probability\n",
    "\n",
    "Ls = range(11,13,2)#list of distances\n",
    "depo_list=np.linspace(0.001,0.02,20)#depolarizing noise\n",
    "num_shots = 1000000#number of shots per core\n",
    "nb_cores=10 #number of cores\n",
    "for l,L in enumerate(Ls):\n",
    "    for d,depo in enumerate(depo_list):\n",
    "        depo=round(depo,5)\n",
    "        with Pool(processes=nb_cores) as pool:\n",
    "            pool.imap(multi_args_wrapper_surface_code,[(L,depo,num_shots) for _ in range(10)])\n",
    "            pool.close()\n",
    "            pool.join()"
   ]
  }
 ],
 "metadata": {
  "kernelspec": {
   "display_name": "QEC",
   "language": "python",
   "name": "qec"
  },
  "language_info": {
   "codemirror_mode": {
    "name": "ipython",
    "version": 3
   },
   "file_extension": ".py",
   "mimetype": "text/x-python",
   "name": "python",
   "nbconvert_exporter": "python",
   "pygments_lexer": "ipython3",
   "version": "3.9.5"
  }
 },
 "nbformat": 4,
 "nbformat_minor": 5
}
